{
 "cells": [
  {
   "cell_type": "markdown",
   "id": "c0561a04",
   "metadata": {},
   "source": [
    "### Numpy Mastery Assignment\n",
    "- Answer all questions\n",
    "- Submission : 20th September 2022"
   ]
  },
  {
   "cell_type": "code",
   "execution_count": 2,
   "id": "8d60bb38",
   "metadata": {},
   "outputs": [],
   "source": [
    "import numpy as np"
   ]
  },
  {
   "cell_type": "markdown",
   "id": "e04a249e",
   "metadata": {},
   "source": [
    "1. Create a 1D array of numbers from 0 to 9"
   ]
  },
  {
   "cell_type": "code",
   "execution_count": 3,
   "id": "92f8fa76",
   "metadata": {},
   "outputs": [
    {
     "data": {
      "text/plain": [
       "array([0, 1, 2, 3, 4, 5, 6, 7, 8, 9])"
      ]
     },
     "execution_count": 3,
     "metadata": {},
     "output_type": "execute_result"
    }
   ],
   "source": [
    "numbers = np.arange(0,10)\n",
    "numbers"
   ]
  },
  {
   "cell_type": "markdown",
   "id": "f3b8a05e",
   "metadata": {},
   "source": [
    "2. Create a 3x3 numpy of all True "
   ]
  },
  {
   "cell_type": "code",
   "execution_count": 4,
   "id": "7ce8854c",
   "metadata": {},
   "outputs": [
    {
     "data": {
      "text/plain": [
       "array([[ True,  True,  True],\n",
       "       [ True,  True,  True],\n",
       "       [ True,  True,  True]])"
      ]
     },
     "execution_count": 4,
     "metadata": {},
     "output_type": "execute_result"
    }
   ],
   "source": [
    "true_three = np.full((3,3), True)\n",
    "true_three"
   ]
  },
  {
   "cell_type": "markdown",
   "id": "9bf76467",
   "metadata": {},
   "source": [
    "3. Create an array of numbers from 20 to 39"
   ]
  },
  {
   "cell_type": "code",
   "execution_count": 5,
   "id": "463debc4",
   "metadata": {},
   "outputs": [
    {
     "data": {
      "text/plain": [
       "array([20, 21, 22, 23, 24, 25, 26, 27, 28, 29, 30, 31, 32, 33, 34, 35, 36,\n",
       "       37, 38, 39])"
      ]
     },
     "execution_count": 5,
     "metadata": {},
     "output_type": "execute_result"
    }
   ],
   "source": [
    "arr_num = np.arange(20,40)\n",
    "arr_num"
   ]
  },
  {
   "cell_type": "markdown",
   "id": "c68a12af",
   "metadata": {},
   "source": [
    "4. Replace all odd numbers in Q3 by -1"
   ]
  },
  {
   "cell_type": "code",
   "execution_count": 6,
   "id": "d4ec7ba9",
   "metadata": {},
   "outputs": [
    {
     "data": {
      "text/plain": [
       "array([20, -1, 22, -1, 24, -1, 26, -1, 28, -1, 30, -1, 32, -1, 34, -1, 36,\n",
       "       -1, 38, -1])"
      ]
     },
     "execution_count": 6,
     "metadata": {},
     "output_type": "execute_result"
    }
   ],
   "source": [
    "arr_num [arr_num %2 != 0 ] = -1\n",
    "arr_num"
   ]
  },
  {
   "cell_type": "markdown",
   "id": "6bb94688",
   "metadata": {},
   "source": [
    "5. Create two arrays of length 10 and print out  common items in both arrays"
   ]
  },
  {
   "cell_type": "code",
   "execution_count": 9,
   "id": "4cd58b7f",
   "metadata": {},
   "outputs": [
    {
     "data": {
      "text/plain": [
       "array([ 7,  8,  9, 10])"
      ]
     },
     "execution_count": 9,
     "metadata": {},
     "output_type": "execute_result"
    }
   ],
   "source": [
    "arr_1 = np.arange(1,11)\n",
    "arr_2 = np.arange(7,18)\n",
    "\n",
    "np.intersect1d(arr_1,arr_2)"
   ]
  },
  {
   "cell_type": "markdown",
   "id": "c4b172be",
   "metadata": {},
   "source": [
    "6.  Create a 5x5 identity matrix"
   ]
  },
  {
   "cell_type": "code",
   "execution_count": 10,
   "id": "e37696f8",
   "metadata": {},
   "outputs": [
    {
     "data": {
      "text/plain": [
       "array([[1., 0., 0., 0., 0.],\n",
       "       [0., 1., 0., 0., 0.],\n",
       "       [0., 0., 1., 0., 0.],\n",
       "       [0., 0., 0., 1., 0.],\n",
       "       [0., 0., 0., 0., 1.]])"
      ]
     },
     "execution_count": 10,
     "metadata": {},
     "output_type": "execute_result"
    }
   ],
   "source": [
    "id_mat = np.eye(5)\n",
    "id_mat"
   ]
  },
  {
   "cell_type": "markdown",
   "id": "0faa0eca",
   "metadata": {},
   "source": [
    "7. In the code cell below define and print a set of arrays defined x, y and z. The array x should be take the form [10 12 9 2 20], y should have  101  values from  10  to  20  inclusive and z should be a  2×3  array of ones."
   ]
  },
  {
   "cell_type": "code",
   "execution_count": 14,
   "id": "05665fa1",
   "metadata": {},
   "outputs": [
    {
     "name": "stdout",
     "output_type": "stream",
     "text": [
      " x: [10 12  9  2 20] \n",
      " y: [10.  10.1 10.2 10.3 10.4 10.5 10.6 10.7 10.8 10.9 11.  11.1 11.2 11.3\n",
      " 11.4 11.5 11.6 11.7 11.8 11.9 12.  12.1 12.2 12.3 12.4 12.5 12.6 12.7\n",
      " 12.8 12.9 13.  13.1 13.2 13.3 13.4 13.5 13.6 13.7 13.8 13.9 14.  14.1\n",
      " 14.2 14.3 14.4 14.5 14.6 14.7 14.8 14.9 15.  15.1 15.2 15.3 15.4 15.5\n",
      " 15.6 15.7 15.8 15.9 16.  16.1 16.2 16.3 16.4 16.5 16.6 16.7 16.8 16.9\n",
      " 17.  17.1 17.2 17.3 17.4 17.5 17.6 17.7 17.8 17.9 18.  18.1 18.2 18.3\n",
      " 18.4 18.5 18.6 18.7 18.8 18.9 19.  19.1 19.2 19.3 19.4 19.5 19.6 19.7\n",
      " 19.8 19.9 20. ] \n",
      " z:[[1. 1. 1.]\n",
      " [1. 1. 1.]]\n"
     ]
    }
   ],
   "source": [
    "x = np.array([10, 12, 9, 2, 20])\n",
    "y = np.linspace(10,20,101)\n",
    "z = np.ones((2,3))\n",
    "\n",
    "print(f' x: {x} \\n y: {y} \\n z:{z}')"
   ]
  },
  {
   "cell_type": "markdown",
   "id": "76aaeb7c",
   "metadata": {},
   "source": [
    "8.Using the available Numpy functions on array x from problem  7 , find the average and the standard deviation of the value in this array. Redefine x as an array with all these values sorted in numerical order."
   ]
  },
  {
   "cell_type": "code",
   "execution_count": 19,
   "id": "a3af77b7",
   "metadata": {},
   "outputs": [
    {
     "name": "stdout",
     "output_type": "stream",
     "text": [
      " mean:10.6 \n",
      " stdev:5.782732917920384 \n",
      " x:[ 2  9 10 12 20]\n"
     ]
    }
   ],
   "source": [
    "mean = np.mean(x)\n",
    "stdev = np.std(x)\n",
    "x = np.sort(x)\n",
    "\n",
    "print(f' mean:{mean} \\n stdev:{stdev} \\n x:{x}')\n"
   ]
  },
  {
   "cell_type": "markdown",
   "id": "1b592987",
   "metadata": {},
   "source": [
    "9. Create a 10x10 array with random values and find the minimum and maximum values"
   ]
  },
  {
   "cell_type": "code",
   "execution_count": 28,
   "id": "b0dbac65",
   "metadata": {},
   "outputs": [
    {
     "name": "stdout",
     "output_type": "stream",
     "text": [
      " arr_rand:[[ 47  21 161  74  33  70  24  64 101 140]\n",
      " [126 188 129  68  88 172 127 130 135 180]\n",
      " [ 24  42 173 135 106  40 113 192  14  34]\n",
      " [100  66  73 187 115  41 177  50 111 102]\n",
      " [ 25  12 111 125  86  67  35 134 121 137]\n",
      " [123  18  77  83 140 127 106  88 153  11]\n",
      " [111 159 152  56  16 131 130  36  48 156]\n",
      " [119  68 101 168 139 162 163 147 126 102]\n",
      " [167  63 144 173  80  69 194  83  73 185]\n",
      " [138 106 134 129  55  23 169 139  54 187]]\n",
      " rand_max:194\n",
      " rand_min:11\n"
     ]
    }
   ],
   "source": [
    "arr_rand = np.random.randint(10,200,(10,10))\n",
    "rand_max = np.max(arr_rand)\n",
    "rand_min = np.min(arr_rand)\n",
    "\n",
    "print(f' arr_rand:{arr_rand}\\n rand_max:{rand_max}\\n rand_min:{rand_min}')"
   ]
  },
  {
   "cell_type": "markdown",
   "id": "4e3bcb2c",
   "metadata": {},
   "source": [
    "10. Create a 3x3 matrix with values ranging from 0 to 8"
   ]
  },
  {
   "cell_type": "code",
   "execution_count": 41,
   "id": "365ac58a",
   "metadata": {},
   "outputs": [
    {
     "data": {
      "text/plain": [
       "matrix([[0, 1, 2],\n",
       "        [3, 4, 5],\n",
       "        [6, 7, 8]])"
      ]
     },
     "execution_count": 41,
     "metadata": {},
     "output_type": "execute_result"
    }
   ],
   "source": [
    "three_mat = np.arange(0,9).reshape((3,3))\n",
    "three_mat = np.matrix(three_mat)\n",
    "three_mat"
   ]
  },
  {
   "cell_type": "markdown",
   "id": "21052f20",
   "metadata": {},
   "source": [
    "11.  Generates an array [[1 2 3] [4 5 6]]"
   ]
  },
  {
   "cell_type": "code",
   "execution_count": 43,
   "id": "418aad8d",
   "metadata": {},
   "outputs": [
    {
     "data": {
      "text/plain": [
       "array([[1, 2, 3],\n",
       "       [4, 5, 6]])"
      ]
     },
     "execution_count": 43,
     "metadata": {},
     "output_type": "execute_result"
    }
   ],
   "source": [
    "arr_6 = np.arange(1,7).reshape((2,3))\n",
    "arr_6"
   ]
  },
  {
   "cell_type": "markdown",
   "id": "67633962",
   "metadata": {},
   "source": [
    "12. Generates an array [0 2.5 5 7.5 10]"
   ]
  },
  {
   "cell_type": "code",
   "execution_count": 40,
   "id": "680f8172",
   "metadata": {},
   "outputs": [
    {
     "data": {
      "text/plain": [
       "array([ 0. ,  2.5,  5. ,  7.5, 10. ])"
      ]
     },
     "execution_count": 40,
     "metadata": {},
     "output_type": "execute_result"
    }
   ],
   "source": [
    "arr_5 = np.linspace(0,10,5)\n",
    "arr_5"
   ]
  },
  {
   "cell_type": "markdown",
   "id": "2ac6248c",
   "metadata": {},
   "source": [
    "13. Generates an 3x3 array of zeros"
   ]
  },
  {
   "cell_type": "code",
   "execution_count": 39,
   "id": "1ff52b7e",
   "metadata": {},
   "outputs": [
    {
     "data": {
      "text/plain": [
       "array([[0., 0., 0.],\n",
       "       [0., 0., 0.],\n",
       "       [0., 0., 0.]])"
      ]
     },
     "execution_count": 39,
     "metadata": {},
     "output_type": "execute_result"
    }
   ],
   "source": [
    "zeros = np.zeros((3,3))\n",
    "zeros"
   ]
  },
  {
   "cell_type": "markdown",
   "id": "248b6aa4",
   "metadata": {},
   "source": [
    "14. Create array from 0.1 to 10 with 12 elements, inclusively"
   ]
  },
  {
   "cell_type": "code",
   "execution_count": 44,
   "id": "42ae67cb",
   "metadata": {},
   "outputs": [
    {
     "data": {
      "text/plain": [
       "array([ 0.1,  1. ,  1.9,  2.8,  3.7,  4.6,  5.5,  6.4,  7.3,  8.2,  9.1,\n",
       "       10. ])"
      ]
     },
     "execution_count": 44,
     "metadata": {},
     "output_type": "execute_result"
    }
   ],
   "source": [
    "arr_12 = np.linspace(0.1,10,12)\n",
    "arr_12"
   ]
  },
  {
   "cell_type": "markdown",
   "id": "3214f8ed",
   "metadata": {},
   "source": [
    "15. Create a matrix with seven columns and five rows of ten(10)."
   ]
  },
  {
   "cell_type": "code",
   "execution_count": 47,
   "id": "6586893a",
   "metadata": {},
   "outputs": [
    {
     "data": {
      "text/plain": [
       "matrix([[10, 10, 10, 10, 10, 10, 10],\n",
       "        [10, 10, 10, 10, 10, 10, 10],\n",
       "        [10, 10, 10, 10, 10, 10, 10],\n",
       "        [10, 10, 10, 10, 10, 10, 10],\n",
       "        [10, 10, 10, 10, 10, 10, 10]])"
      ]
     },
     "execution_count": 47,
     "metadata": {},
     "output_type": "execute_result"
    }
   ],
   "source": [
    "mat_10 = np.matrix(np.full((5,7),10))\n",
    "mat_10 "
   ]
  },
  {
   "cell_type": "markdown",
   "id": "14397e1e",
   "metadata": {},
   "source": [
    "16. What is the difference between numpy and list?"
   ]
  },
  {
   "cell_type": "code",
   "execution_count": 48,
   "id": "2bdc594f",
   "metadata": {},
   "outputs": [],
   "source": [
    "# Numpy can take multiple dimensions but lists only take a one dimensional input"
   ]
  },
  {
   "cell_type": "markdown",
   "id": "4fcce8ae",
   "metadata": {},
   "source": [
    "17. Create a 1D array of ones consisting of  50  values. Change the values of the array so that the values alternate between ones and zeros ie  1,0,1,0,1,0,1,0,1...  ensuring that the starting value is  1 "
   ]
  },
  {
   "cell_type": "code",
   "execution_count": 56,
   "id": "d1242279",
   "metadata": {},
   "outputs": [
    {
     "data": {
      "text/plain": [
       "array([1., 0., 1., 0., 1., 0., 1., 0., 1., 0., 1., 0., 1., 0., 1., 0., 1.,\n",
       "       0., 1., 0., 1., 0., 1., 0., 1., 0., 1., 0., 1., 0., 1., 0., 1., 0.,\n",
       "       1., 0., 1., 0., 1., 0., 1., 0., 1., 0., 1., 0., 1., 0., 1., 0.])"
      ]
     },
     "execution_count": 56,
     "metadata": {},
     "output_type": "execute_result"
    }
   ],
   "source": [
    "ones = np.ones(50)\n",
    "ones[1:51:2] = np.zeros(25)\n",
    "ones"
   ]
  },
  {
   "cell_type": "markdown",
   "id": "4a3a1bab",
   "metadata": {},
   "source": [
    "18. Generate a  10×10  matrix of zeros.\n",
    "Make this matrix an identity matrix"
   ]
  },
  {
   "cell_type": "code",
   "execution_count": 65,
   "id": "a3b9bbf2",
   "metadata": {},
   "outputs": [
    {
     "data": {
      "text/plain": [
       "matrix([[1., 0., 0., 0., 0., 0., 0., 0., 0., 0.],\n",
       "        [0., 1., 0., 0., 0., 0., 0., 0., 0., 0.],\n",
       "        [0., 0., 1., 0., 0., 0., 0., 0., 0., 0.],\n",
       "        [0., 0., 0., 1., 0., 0., 0., 0., 0., 0.],\n",
       "        [0., 0., 0., 0., 1., 0., 0., 0., 0., 0.],\n",
       "        [0., 0., 0., 0., 0., 1., 0., 0., 0., 0.],\n",
       "        [0., 0., 0., 0., 0., 0., 1., 0., 0., 0.],\n",
       "        [0., 0., 0., 0., 0., 0., 0., 1., 0., 0.],\n",
       "        [0., 0., 0., 0., 0., 0., 0., 0., 1., 0.],\n",
       "        [0., 0., 0., 0., 0., 0., 0., 0., 0., 1.]])"
      ]
     },
     "execution_count": 65,
     "metadata": {},
     "output_type": "execute_result"
    }
   ],
   "source": [
    "mat_zeros = np.eye(10)\n",
    "mat_zeros = np.matrix(mat_zeros)\n",
    "mat_zeros"
   ]
  },
  {
   "cell_type": "markdown",
   "id": "434544f2",
   "metadata": {},
   "source": [
    "19. Generate an array x to be a  10×10  array of zeros. Redefine its diagonal components (from left to right) to equal one"
   ]
  },
  {
   "cell_type": "code",
   "execution_count": 72,
   "id": "3c532e73",
   "metadata": {},
   "outputs": [
    {
     "data": {
      "text/plain": [
       "array([[1., 0., 0., 0., 0., 0., 0., 0., 0., 0.],\n",
       "       [0., 1., 0., 0., 0., 0., 0., 0., 0., 0.],\n",
       "       [0., 0., 1., 0., 0., 0., 0., 0., 0., 0.],\n",
       "       [0., 0., 0., 1., 0., 0., 0., 0., 0., 0.],\n",
       "       [0., 0., 0., 0., 1., 0., 0., 0., 0., 0.],\n",
       "       [0., 0., 0., 0., 0., 1., 0., 0., 0., 0.],\n",
       "       [0., 0., 0., 0., 0., 0., 1., 0., 0., 0.],\n",
       "       [0., 0., 0., 0., 0., 0., 0., 1., 0., 0.],\n",
       "       [0., 0., 0., 0., 0., 0., 0., 0., 1., 0.],\n",
       "       [0., 0., 0., 0., 0., 0., 0., 0., 0., 1.]])"
      ]
     },
     "execution_count": 72,
     "metadata": {},
     "output_type": "execute_result"
    }
   ],
   "source": [
    "x = np.zeros((10,10))\n",
    "np.fill_diagonal(x,1)\n",
    "x"
   ]
  },
  {
   "cell_type": "markdown",
   "id": "4ff0163c",
   "metadata": {},
   "source": [
    "20. What is the dot products of this two matrix [[1,2],[3,4]] and [[5,6],[7,8]]"
   ]
  },
  {
   "cell_type": "code",
   "execution_count": 75,
   "id": "6f1479f7",
   "metadata": {},
   "outputs": [
    {
     "data": {
      "text/plain": [
       "matrix([[19, 22],\n",
       "        [43, 50]])"
      ]
     },
     "execution_count": 75,
     "metadata": {},
     "output_type": "execute_result"
    }
   ],
   "source": [
    "mat_a = np.matrix([[1,2],[3,4]])\n",
    "mat_b = np.matrix([[5,6],[7,8]])\n",
    "dot = np.dot(mat_a,mat_b)\n",
    "dot"
   ]
  },
  {
   "cell_type": "markdown",
   "id": "7b090d8f",
   "metadata": {},
   "source": [
    "21.  Multiply these two matrix [[1,2],[3,4]] and [[5,6],[7,8]]"
   ]
  },
  {
   "cell_type": "code",
   "execution_count": 3,
   "id": "6f3533ed",
   "metadata": {},
   "outputs": [
    {
     "data": {
      "text/plain": [
       "matrix([[19, 22],\n",
       "        [43, 50]])"
      ]
     },
     "execution_count": 3,
     "metadata": {},
     "output_type": "execute_result"
    }
   ],
   "source": [
    "mat_c = np.matrix([[1,2],[3,4]])\n",
    "mat_d = np.matrix([[5,6],[7,8]])\n",
    "mat_c*mat_d"
   ]
  },
  {
   "cell_type": "markdown",
   "id": "81083127",
   "metadata": {},
   "source": [
    "22. Multiply this matrix  [[1,2],[3,4]] by a  scalar value of 5"
   ]
  },
  {
   "cell_type": "code",
   "execution_count": 6,
   "id": "33cd875f",
   "metadata": {},
   "outputs": [
    {
     "data": {
      "text/plain": [
       "matrix([[ 5, 10],\n",
       "        [15, 20]])"
      ]
     },
     "execution_count": 6,
     "metadata": {},
     "output_type": "execute_result"
    }
   ],
   "source": [
    "s = 5\n",
    "mat_arr = s* np.matrix([[1,2],[3,4]] )\n",
    "mat_arr"
   ]
  },
  {
   "cell_type": "markdown",
   "id": "6c8f970c",
   "metadata": {},
   "source": [
    "23. A = [[1,2],[3,4]] and B = transpose of A. Calculate AxB"
   ]
  },
  {
   "cell_type": "code",
   "execution_count": 7,
   "id": "934688f4",
   "metadata": {},
   "outputs": [
    {
     "data": {
      "text/plain": [
       "array([[ 1,  6],\n",
       "       [ 6, 16]])"
      ]
     },
     "execution_count": 7,
     "metadata": {},
     "output_type": "execute_result"
    }
   ],
   "source": [
    "A = np.array([[1,2],[3,4]])\n",
    "B = np.transpose(A)\n",
    "A_B = A*B\n",
    "A_B"
   ]
  },
  {
   "cell_type": "markdown",
   "id": "87bc118d",
   "metadata": {},
   "source": [
    "24. A= [[1,2],[3,4]] and B =  [[5,6],[7,8]]. Is A x B = B x A ? Show working"
   ]
  },
  {
   "cell_type": "code",
   "execution_count": 11,
   "id": "28ae664e",
   "metadata": {},
   "outputs": [
    {
     "name": "stdout",
     "output_type": "stream",
     "text": [
      "[[ 5 12]\n",
      " [21 32]]\n",
      "[[ 5 12]\n",
      " [21 32]]\n"
     ]
    }
   ],
   "source": [
    "A = np.array([[1,2],[3,4]])\n",
    "B = np.array([[5,6],[7,8]])\n",
    "print(A*B)\n",
    "print(B*A)"
   ]
  },
  {
   "cell_type": "markdown",
   "id": "390f3940",
   "metadata": {},
   "source": [
    "25. Creates an array [[0 1 2] [3 4 5]]\n",
    "- Let A = first row of the matrix\n",
    "- B = second row of the matrix\n",
    "- C = second column of the Matrix\n",
    "- D = first row, third column of the matrix\n",
    "- print A , B , C, D"
   ]
  },
  {
   "cell_type": "code",
   "execution_count": 21,
   "id": "1d69c6df",
   "metadata": {},
   "outputs": [
    {
     "name": "stdout",
     "output_type": "stream",
     "text": [
      "[0 1 2]\n",
      "[3 4 5]\n",
      "[1 4]\n",
      "2\n"
     ]
    }
   ],
   "source": [
    "array = np.array([[0, 1, 2], [3, 4, 5]])\n",
    "A = array[0]\n",
    "B = array[1]\n",
    "C = array[:,1]\n",
    "D = array[0,2]\n",
    "\n",
    "print(A)\n",
    "print(B)\n",
    "print(C)\n",
    "print(D)"
   ]
  }
 ],
 "metadata": {
  "kernelspec": {
   "display_name": "Python 3 (ipykernel)",
   "language": "python",
   "name": "python3"
  },
  "language_info": {
   "codemirror_mode": {
    "name": "ipython",
    "version": 3
   },
   "file_extension": ".py",
   "mimetype": "text/x-python",
   "name": "python",
   "nbconvert_exporter": "python",
   "pygments_lexer": "ipython3",
   "version": "3.9.13"
  }
 },
 "nbformat": 4,
 "nbformat_minor": 5
}
